{
 "cells": [
  {
   "cell_type": "code",
   "execution_count": 12,
   "metadata": {},
   "outputs": [],
   "source": [
    "import torch\n",
    "import pathlib\n",
    "import cv2\n",
    "import numpy as np\n",
    "import matplotlib.pyplot as plt\n",
    "from vit_pytorch import ViT\n",
    "from models.binae import BINMODEL\n",
    "from einops import rearrange"
   ]
  },
  {
   "cell_type": "markdown",
   "metadata": {},
   "source": [
    "## Specify the configurations that you want to use to build your model\n",
    "\n",
    "Here, pick the desired configuration depending on the weights that you downloaded from our repository. The weights can be downloaded from; https://github.com/dali92002/DocEnTR in the Section Model Zoo."
   ]
  },
  {
   "cell_type": "code",
   "execution_count": 13,
   "metadata": {},
   "outputs": [],
   "source": [
    "\n",
    "THRESHOLD = 0.5 ## binarization threshold after the model output\n",
    "\n",
    "SPLITSIZE =  256  ## your image will be divided into patches of 256x256 pixels\n",
    "SETTING = \"base\"  ## choose the desired model size [small, base or large], depending on the model you want to use\n",
    "patch_size = 8 ## choose your desired patch size [8 or 16], depending on the model you want to use\n",
    "\n",
    "image_size =  (SPLITSIZE,SPLITSIZE)\n",
    "\n",
    "\n",
    "device = torch.device('cuda' if torch.cuda.is_available() else 'cpu')"
   ]
  },
  {
   "cell_type": "code",
   "execution_count": 14,
   "metadata": {},
   "outputs": [],
   "source": [
    "\n",
    "if SETTING == 'base':\n",
    "    ENCODERLAYERS = 6\n",
    "    ENCODERHEADS = 8\n",
    "    ENCODERDIM = 768\n",
    "\n",
    "if SETTING == 'small':\n",
    "    ENCODERLAYERS = 3\n",
    "    ENCODERHEADS = 4\n",
    "    ENCODERDIM = 512\n",
    "\n",
    "if SETTING == 'large':\n",
    "    ENCODERLAYERS = 12\n",
    "    ENCODERHEADS = 16\n",
    "    ENCODERDIM = 1024"
   ]
  },
  {
   "cell_type": "markdown",
   "metadata": {},
   "source": [
    "## Build your model\n",
    "Build the transformer autoencoder model"
   ]
  },
  {
   "cell_type": "code",
   "execution_count": 15,
   "metadata": {},
   "outputs": [],
   "source": [
    "v = ViT(\n",
    "    image_size = image_size,\n",
    "    patch_size = patch_size,\n",
    "    num_classes = 1000,\n",
    "    dim = ENCODERDIM,\n",
    "    depth = ENCODERLAYERS,\n",
    "    heads = ENCODERHEADS,\n",
    "    mlp_dim = 2048\n",
    ")\n",
    "model = BINMODEL(\n",
    "    encoder = v,\n",
    "    masking_ratio = 0.5,   # __ doesnt matter for binarization\n",
    "    decoder_dim = ENCODERDIM,      \n",
    "    decoder_depth = ENCODERLAYERS,\n",
    "    decoder_heads = ENCODERHEADS       \n",
    ")\n",
    "\n",
    "model = model.to(device)"
   ]
  },
  {
   "cell_type": "markdown",
   "metadata": {},
   "source": [
    "## load the pretrained weights that were downloaded from our repo:\n",
    "Here, give the path of the downloaded weights and load them to use a trained model."
   ]
  },
  {
   "cell_type": "code",
   "execution_count": 16,
   "metadata": {},
   "outputs": [
    {
     "data": {
      "text/plain": [
       "<All keys matched successfully>"
      ]
     },
     "execution_count": 16,
     "metadata": {},
     "output_type": "execute_result"
    }
   ],
   "source": [
    "model_path = \"./model_zoo/best-model_8_2018base_256_8.pt\"\n",
    "model.load_state_dict(torch.load(model_path, map_location=device))"
   ]
  },
  {
   "cell_type": "markdown",
   "metadata": {},
   "source": [
    "## Read the degraded image\n",
    "\n",
    "Here specify the location of the degraded image that you want to clean. and then read it. We also can visualize it before cleaning. Here I have a folder named demo that contain two folders named degraded and cleaned, the degraded contain the degraded image and the cleaned will contain later the obtained results. But you can specify your own names of folders."
   ]
  },
  {
   "cell_type": "code",
   "execution_count": 17,
   "metadata": {},
   "outputs": [],
   "source": [
    "deg_folder = './demo/degraded/'\n",
    "# image_name = '2.png'\n",
    "image_name = 'Ruler.jpg'\n",
    "deg_image = cv2.imread(deg_folder+image_name) / 255"
   ]
  },
  {
   "cell_type": "code",
   "execution_count": 18,
   "metadata": {},
   "outputs": [
    {
     "data": {
      "text/plain": [
       "<matplotlib.image.AxesImage at 0x21db252e230>"
      ]
     },
     "execution_count": 18,
     "metadata": {},
     "output_type": "execute_result"
    },
    {
     "data": {
      "image/png": "[encoded data removed]",
      "text/plain": [
       "<Figure size 640x480 with 1 Axes>"
      ]
     },
     "metadata": {},
     "output_type": "display_data"
    }
   ],
   "source": [
    "plt.imshow(deg_image[:, :, [2, 1, 0]])                       # Show image "
   ]
  },
  {
   "cell_type": "markdown",
   "metadata": {},
   "source": [
    "## Split and Merge functions\n",
    "\n",
    "Here, two function that are used for splitting an image into patches and merge a list of patches into an image. "
   ]
  },
  {
   "cell_type": "code",
   "execution_count": 19,
   "metadata": {},
   "outputs": [],
   "source": [
    "def split(im,h,w):\n",
    "    patches=[]\n",
    "    nsize1=SPLITSIZE\n",
    "    nsize2=SPLITSIZE\n",
    "    for ii in range(0,h,nsize1): #2048\n",
    "        for iii in range(0,w,nsize2): #1536\n",
    "            patches.append(im[ii:ii+nsize1,iii:iii+nsize2,:])\n",
    "    \n",
    "    return patches \n",
    "\n",
    "def merge_image(splitted_images, h,w):\n",
    "    image=np.zeros(((h,w,3)))\n",
    "    nsize1=SPLITSIZE\n",
    "    nsize2=SPLITSIZE\n",
    "    ind =0\n",
    "    for ii in range(0,h,nsize1):\n",
    "        for iii in range(0,w,nsize2):\n",
    "            image[ii:ii+nsize1,iii:iii+nsize2,:]=splitted_images[ind]\n",
    "            ind += 1\n",
    "    return image  \n"
   ]
  },
  {
   "cell_type": "markdown",
   "metadata": {},
   "source": [
    "## Preprocess the Image\n",
    "\n",
    "Preprocess the image by dividing it into patches and get them ready to be used by the model"
   ]
  },
  {
   "cell_type": "code",
   "execution_count": 20,
   "metadata": {},
   "outputs": [],
   "source": [
    "## Split the image intop patches, an image is padded first to make it dividable by the split size\n",
    "h =  ((deg_image.shape[0] // 256) +1)*256 \n",
    "w =  ((deg_image.shape[1] // 256 ) +1)*256\n",
    "deg_image_padded=np.ones((h,w,3))\n",
    "deg_image_padded[:deg_image.shape[0],:deg_image.shape[1],:]= deg_image\n",
    "patches = split(deg_image_padded, deg_image.shape[0], deg_image.shape[1])"
   ]
  },
  {
   "cell_type": "code",
   "execution_count": 21,
   "metadata": {},
   "outputs": [],
   "source": [
    "## preprocess the patches (images)\n",
    "mean = [0.485, 0.456, 0.406]\n",
    "std = [0.229, 0.224, 0.225]\n",
    "\n",
    "out_patches=[]\n",
    "for p in patches:\n",
    "    out_patch = np.zeros([3, *p.shape[:-1]])\n",
    "    for i in range(3):\n",
    "        out_patch[i] = (p[:,:,i] - mean[i]) / std[i]\n",
    "    out_patches.append(out_patch)"
   ]
  },
  {
   "cell_type": "markdown",
   "metadata": {},
   "source": [
    "## Clean your image with the trained model\n",
    "\n",
    "Clean your list of patches obe by one."
   ]
  },
  {
   "cell_type": "code",
   "execution_count": 22,
   "metadata": {},
   "outputs": [
    {
     "name": "stdout",
     "output_type": "stream",
     "text": [
      "(0 / 19) processing patch...\n",
      "(1 / 19) processing patch...\n",
      "(2 / 19) processing patch...\n",
      "(3 / 19) processing patch...\n",
      "(4 / 19) processing patch...\n",
      "(5 / 19) processing patch...\n",
      "(6 / 19) processing patch...\n",
      "(7 / 19) processing patch...\n",
      "(8 / 19) processing patch...\n",
      "(9 / 19) processing patch...\n",
      "(10 / 19) processing patch...\n",
      "(11 / 19) processing patch...\n",
      "(12 / 19) processing patch...\n",
      "(13 / 19) processing patch...\n",
      "(14 / 19) processing patch...\n",
      "(15 / 19) processing patch...\n",
      "(16 / 19) processing patch...\n",
      "(17 / 19) processing patch...\n",
      "(18 / 19) processing patch...\n",
      "(19 / 19) processing patch...\n"
     ]
    }
   ],
   "source": [
    "result = []\n",
    "for patch_idx, p in enumerate(out_patches):\n",
    "    print(f\"({patch_idx} / {len(out_patches) - 1}) processing patch...\")\n",
    "    p = np.array(p, dtype='float32')\n",
    "    train_in = torch.from_numpy(p)\n",
    "\n",
    "\n",
    "\n",
    "    with torch.no_grad():\n",
    "        train_in = train_in.view(1,3,SPLITSIZE,SPLITSIZE).to(device)\n",
    "        _ = torch.rand((train_in.shape)).to(device)\n",
    "\n",
    "\n",
    "        loss,_, pred_pixel_values = model(train_in,_)\n",
    "        \n",
    "        rec_patches = pred_pixel_values\n",
    "\n",
    "        rec_image = torch.squeeze(rearrange(rec_patches, 'b (h w) (p1 p2 c) -> b c (h p1) (w p2)', p1 = patch_size, p2 = patch_size,  h=image_size[0]//patch_size))\n",
    "        \n",
    "        impred = rec_image.cpu().numpy()\n",
    "        impred = np.transpose(impred, (1, 2, 0))\n",
    "        \n",
    "        for ch in range(3):\n",
    "            impred[:,:,ch] = (impred[:,:,ch] *std[ch]) + mean[ch]\n",
    "\n",
    "        impred[np.where(impred>1)] = 1\n",
    "        impred[np.where(impred<0)] = 0\n",
    "    result.append(impred)"
   ]
  },
  {
   "cell_type": "markdown",
   "metadata": {},
   "source": [
    "## Get your cleaned image and save it\n",
    "\n",
    "After cleaning the list of patches you can now merge them again to an image ang get it back to it original size by removing the padding. Here you can also vizualize your image before saving it into your desired folder."
   ]
  },
  {
   "cell_type": "code",
   "execution_count": 23,
   "metadata": {},
   "outputs": [
    {
     "ename": "IndexError",
     "evalue": "list index out of range",
     "output_type": "error",
     "traceback": [
      "\u001b[1;31m---------------------------------------------------------------------------\u001b[0m",
      "\u001b[1;31mIndexError\u001b[0m                                Traceback (most recent call last)",
      "Cell \u001b[1;32mIn [23], line 1\u001b[0m\n\u001b[1;32m----> 1\u001b[0m clean_image \u001b[38;5;241m=\u001b[39m \u001b[43mmerge_image\u001b[49m\u001b[43m(\u001b[49m\u001b[43mresult\u001b[49m\u001b[43m,\u001b[49m\u001b[43m \u001b[49m\u001b[43mdeg_image_padded\u001b[49m\u001b[38;5;241;43m.\u001b[39;49m\u001b[43mshape\u001b[49m\u001b[43m[\u001b[49m\u001b[38;5;241;43m0\u001b[39;49m\u001b[43m]\u001b[49m\u001b[43m,\u001b[49m\u001b[43m \u001b[49m\u001b[43mdeg_image_padded\u001b[49m\u001b[38;5;241;43m.\u001b[39;49m\u001b[43mshape\u001b[49m\u001b[43m[\u001b[49m\u001b[38;5;241;43m1\u001b[39;49m\u001b[43m]\u001b[49m\u001b[43m)\u001b[49m\n\u001b[0;32m      2\u001b[0m clean_image \u001b[38;5;241m=\u001b[39m clean_image[:deg_image\u001b[38;5;241m.\u001b[39mshape[\u001b[38;5;241m0\u001b[39m], :deg_image\u001b[38;5;241m.\u001b[39mshape[\u001b[38;5;241m1\u001b[39m],:]\n\u001b[0;32m      3\u001b[0m clean_image \u001b[38;5;241m=\u001b[39m (clean_image\u001b[38;5;241m>\u001b[39mTHRESHOLD)\u001b[38;5;241m*\u001b[39m\u001b[38;5;241m255\u001b[39m\n",
      "Cell \u001b[1;32mIn [19], line 18\u001b[0m, in \u001b[0;36mmerge_image\u001b[1;34m(splitted_images, h, w)\u001b[0m\n\u001b[0;32m     16\u001b[0m \u001b[38;5;28;01mfor\u001b[39;00m ii \u001b[38;5;129;01min\u001b[39;00m \u001b[38;5;28mrange\u001b[39m(\u001b[38;5;241m0\u001b[39m,h,nsize1):\n\u001b[0;32m     17\u001b[0m     \u001b[38;5;28;01mfor\u001b[39;00m iii \u001b[38;5;129;01min\u001b[39;00m \u001b[38;5;28mrange\u001b[39m(\u001b[38;5;241m0\u001b[39m,w,nsize2):\n\u001b[1;32m---> 18\u001b[0m         image[ii:ii\u001b[38;5;241m+\u001b[39mnsize1,iii:iii\u001b[38;5;241m+\u001b[39mnsize2,:]\u001b[38;5;241m=\u001b[39m\u001b[43msplitted_images\u001b[49m\u001b[43m[\u001b[49m\u001b[43mind\u001b[49m\u001b[43m]\u001b[49m\n\u001b[0;32m     19\u001b[0m         ind \u001b[38;5;241m+\u001b[39m\u001b[38;5;241m=\u001b[39m \u001b[38;5;241m1\u001b[39m\n\u001b[0;32m     20\u001b[0m \u001b[38;5;28;01mreturn\u001b[39;00m image\n",
      "\u001b[1;31mIndexError\u001b[0m: list index out of range"
     ]
    }
   ],
   "source": [
    "clean_image = merge_image(result, deg_image_padded.shape[0], deg_image_padded.shape[1])\n",
    "clean_image = clean_image[:deg_image.shape[0], :deg_image.shape[1],:]\n",
    "clean_image = (clean_image>THRESHOLD)*255\n",
    "plt.imshow(clean_image)"
   ]
  },
  {
   "cell_type": "code",
   "execution_count": null,
   "metadata": {},
   "outputs": [
    {
     "name": "stdout",
     "output_type": "stream",
     "text": [
      "created file: demo/cleaned/2__best-model_8_2018base_256_8.png\n"
     ]
    }
   ],
   "source": [
    "output_dir = pathlib.Path('./demo/cleaned')\n",
    "output_dir.mkdir(exist_ok=True)\n",
    "\n",
    "model_name = pathlib.Path(model_path).stem\n",
    "image_path = pathlib.Path(image_name)\n",
    "output_path = output_dir.joinpath(f'{image_path.stem}__{model_name}{image_path.suffix}')\n",
    "\n",
    "cv2.imwrite(str(output_path), clean_image)\n",
    "print(f'created file: {output_path}')"
   ]
  },
  {
   "cell_type": "code",
   "execution_count": null,
   "metadata": {},
   "outputs": [],
   "source": []
  }
 ],
 "metadata": {
  "kernelspec": {
   "display_name": "Python 3.10.4 ('venv_LM2': venv)",
   "language": "python",
   "name": "python3"
  },
  "language_info": {
   "codemirror_mode": {
    "name": "ipython",
    "version": 3
   },
   "file_extension": ".py",
   "mimetype": "text/x-python",
   "name": "python",
   "nbconvert_exporter": "python",
   "pygments_lexer": "ipython3",
   "version": "3.10.4"
  },
  "vscode": {
   "interpreter": {
    "hash": "fd48c5d4557f3831614d731c9b8713258d3307d7abebcae2b6aafef07635f262"
   }
  }
 },
 "nbformat": 4,
 "nbformat_minor": 4
}
